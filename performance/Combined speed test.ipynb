{
 "cells": [
  {
   "cell_type": "code",
   "execution_count": null,
   "metadata": {},
   "outputs": [],
   "source": [
    "%matplotlib inline\n",
    "\n",
    "from os.path import join\n",
    "from time import perf_counter\n",
    "\n",
    "import cv2\n",
    "from matplotlib import pyplot as plt\n",
    "import pandas as pd\n",
    "import seaborn as sns\n",
    "\n",
    "from detectordescriptor import DetectorDescriptor\n",
    "from utils import get_files_from_array\n",
    "\n",
    "cv2.ocl.setUseOpenCL(False)\n",
    "sns.reset_defaults()"
   ]
  },
  {
   "cell_type": "code",
   "execution_count": null,
   "metadata": {},
   "outputs": [],
   "source": [
    "def run_test(images, in_algos):\n",
    "    algos = []\n",
    "    times = []\n",
    "    nkps = []\n",
    "\n",
    "    for algo in in_algos:\n",
    "        print(\"Running test {}\".format(algo.detector_s))\n",
    "\n",
    "        for image in images:\n",
    "            start = perf_counter()\n",
    "            kps = algo.detect_and_compute(image)[0]\n",
    "            end = perf_counter()\n",
    "\n",
    "            algos.append(algo.detector_s)\n",
    "            times.append((end-start)*1000)\n",
    "            nkps.append(len(kps))\n",
    "\n",
    "    return pd.DataFrame({'algo': algos, 'time': times, 'nkp': nkps})\n",
    "\n",
    "def generate_plots(data):\n",
    "    fig, ax = plt.subplots()\n",
    "\n",
    "    sns.swarmplot(data=data, x='algo', y='time', ax=ax)\n",
    "\n",
    "    ax.set_title(\"Combined speed test\")\n",
    "    ax.set_xlabel(\"Algorithm\")\n",
    "    ax.set_ylabel(\"Time taken / ms\")\n",
    "    ax.set_yscale('log')\n",
    "    ax.grid(which='major', axis='y')\n",
    "    ax.grid(which='minor', axis='y', linestyle=':', linewidth='0.5')\n",
    "\n",
    "    fig.savefig(join(\"results\", \"combinedspeed.pdf\"))\n",
    "    return fig"
   ]
  },
  {
   "cell_type": "code",
   "execution_count": null,
   "metadata": {},
   "outputs": [],
   "source": [
    "algos_s = ['AKAZE', 'BRISK', 'KAZE', 'ORB', 'SIFT', 'SURF']\n",
    "algos = [DetectorDescriptor(s) for s in algos_s]\n",
    "\n",
    "dirs = ['bark', 'bikes', 'boat', 'graf', 'leuven', 'trees', 'ubc', 'wall']\n",
    "files = get_files_from_array(dirs)\n",
    "images = [cv2.imread(image) for image in files]\n",
    "\n",
    "data = run_test(images, algos)"
   ]
  },
  {
   "cell_type": "code",
   "execution_count": null,
   "metadata": {},
   "outputs": [],
   "source": [
    "display(generate_plots(data))"
   ]
  }
 ],
 "metadata": {
  "kernelspec": {
   "display_name": "Python 3",
   "language": "python",
   "name": "python3"
  },
  "language_info": {
   "codemirror_mode": {
    "name": "ipython",
    "version": 3
   },
   "file_extension": ".py",
   "mimetype": "text/x-python",
   "name": "python",
   "nbconvert_exporter": "python",
   "pygments_lexer": "ipython3",
   "version": "3.6.4"
  }
 },
 "nbformat": 4,
 "nbformat_minor": 2
}
