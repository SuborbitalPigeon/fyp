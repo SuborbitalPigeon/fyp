{
 "cells": [
  {
   "cell_type": "code",
   "execution_count": 1,
   "metadata": {},
   "outputs": [
    {
     "name": "stderr",
     "output_type": "stream",
     "text": [
      "/usr/lib/python3.6/site-packages/IPython/html.py:14: ShimWarning: The `IPython.html` package has been deprecated since IPython 4.0. You should import from `notebook` instead. `IPython.html.widgets` has moved to `ipywidgets`.\n",
      "  \"`IPython.html.widgets` has moved to `ipywidgets`.\", ShimWarning)\n"
     ]
    }
   ],
   "source": [
    "import itertools\n",
    "from os.path import join\n",
    "from time import perf_counter\n",
    "\n",
    "import cv2\n",
    "from matplotlib import pyplot as plt\n",
    "import numpy as np\n",
    "import pandas as pd\n",
    "import seaborn as sns\n",
    "\n",
    "from detectordescriptor import DetectorDescriptor\n",
    "from utils import get_files_from_array"
   ]
  },
  {
   "cell_type": "code",
   "execution_count": 5,
   "metadata": {
    "scrolled": true
   },
   "outputs": [],
   "source": [
    "def run_test(images, full=False):\n",
    "    \"\"\"Run the speed test\"\"\"\n",
    "    count = 0\n",
    "    detectors_s = []\n",
    "    descriptors_s = []\n",
    "    times = []\n",
    "    nkps = []\n",
    "\n",
    "    if full:\n",
    "        det_s = {**DetectorDescriptor.detectors, **DetectorDescriptor.xdetectors}.keys()\n",
    "        des_s = {**DetectorDescriptor.descriptors, **DetectorDescriptor.xdescriptors}.keys()\n",
    "    else:\n",
    "        det_s = DetectorDescriptor.detectors.keys()\n",
    "        des_s = DetectorDescriptor.descriptors.keys()\n",
    "\n",
    "    for detector, descriptor in itertools.product(det_s, des_s):\n",
    "        count += 1\n",
    "        label = \"{}/{}\".format(detector, descriptor)\n",
    "        print(\"Running test {}/{} - {}/{}\".format(count,\n",
    "                                                  len(det_s) * len(des_s),\n",
    "                                                  detector, descriptor))\n",
    "\n",
    "        algo = DetectorDescriptor(detector, descriptor)\n",
    "        if algo.desc is None:\n",
    "            print(\"Invalid combination - {}/{}\".format(detector, descriptor))\n",
    "            continue\n",
    "\n",
    "        for image in images:\n",
    "            start = perf_counter()\n",
    "            keypoints = algo.detect(image)\n",
    "            keypoints = algo.compute(image, keypoints)[0]\n",
    "            end = perf_counter()\n",
    "\n",
    "            detectors_s.append(detector)\n",
    "            descriptors_s.append(descriptor)\n",
    "            times.append((end - start) * 1000) # Milliseconds\n",
    "            nkps.append(len(keypoints))\n",
    "\n",
    "    return pd.DataFrame({'detector': detectors_s, 'descriptor': descriptors_s,\n",
    "                        'time': times, 'nkp': nkps})\n",
    "\n",
    "def generate_plots(data):\n",
    "    \"\"\" Generate single detector plots, and save to PDF.\"\"\"\n",
    "    for detector in DetectorDescriptor.detectors.keys():\n",
    "        df = data[data.detector == detector]\n",
    "\n",
    "        fig, ax = plt.subplots()\n",
    "\n",
    "        sns.swarmplot(data=df, x='descriptor', y='time', ax=ax)\n",
    "\n",
    "        ax.set_title(\"Detector = {}\".format(detector))\n",
    "        ax.set(xlabel=\"Descriptor\", ylabel=\"Time taken / ms\")\n",
    "        ax.set(yscale='log', ylim=(1, data.time.max()))\n",
    "        ax.grid(which='major', axis='y')\n",
    "        ax.grid(which='minor', axis='y', linestyle=':', linewidth='0.5')\n",
    "\n",
    "        fig.savefig(join(\"results\", \"speed\", detector.lower() + \".pdf\"))\n",
    "\n",
    "def generate_heatmap(data):\n",
    "    \"\"\"Generate heatmap with all combinations of detector and descriptor.\"\"\"\n",
    "    # Heatmap\n",
    "    fig, ax = plt.subplots()\n",
    "\n",
    "    df = data.pivot_table(['nkp', 'time'], ['detector', 'descriptor'], aggfunc=np.sum)\n",
    "    df = ((df.time / df.nkp) * 1000).unstack()\n",
    "    df = df.replace(np.inf, np.nan)\n",
    "\n",
    "    sns.heatmap(df, vmin=0, cmap='viridis_r', annot=True, fmt=\".0f\", ax=ax)\n",
    "    ax.set_title(\"Speed test\")\n",
    "    ax.minorticks_on()\n",
    "\n",
    "    fig.savefig(join(\"results\", \"speed.pdf\"))\n",
    "    return fig"
   ]
  },
  {
   "cell_type": "code",
   "execution_count": 6,
   "metadata": {},
   "outputs": [
    {
     "name": "stdout",
     "output_type": "stream",
     "text": [
      "Running test 1/32 - Agast/AKAZE\n",
      "Invalid combination - Agast/AKAZE\n",
      "Running test 2/32 - Agast/BRISK\n",
      "Running test 3/32 - Agast/KAZE\n",
      "Invalid combination - Agast/KAZE\n",
      "Running test 4/32 - Agast/ORB\n",
      "Running test 5/32 - AKAZE/AKAZE\n",
      "Running test 6/32 - AKAZE/BRISK\n",
      "Running test 7/32 - AKAZE/KAZE\n",
      "Running test 8/32 - AKAZE/ORB\n",
      "Running test 9/32 - BRISK/AKAZE\n",
      "Invalid combination - BRISK/AKAZE\n",
      "Running test 10/32 - BRISK/BRISK\n",
      "Running test 11/32 - BRISK/KAZE\n",
      "Invalid combination - BRISK/KAZE\n",
      "Running test 12/32 - BRISK/ORB\n",
      "Running test 13/32 - Fast/AKAZE\n",
      "Invalid combination - Fast/AKAZE\n",
      "Running test 14/32 - Fast/BRISK\n",
      "Running test 15/32 - Fast/KAZE\n",
      "Invalid combination - Fast/KAZE\n",
      "Running test 16/32 - Fast/ORB\n",
      "Running test 17/32 - GFTT/AKAZE\n",
      "Invalid combination - GFTT/AKAZE\n",
      "Running test 18/32 - GFTT/BRISK\n",
      "Running test 19/32 - GFTT/KAZE\n",
      "Invalid combination - GFTT/KAZE\n",
      "Running test 20/32 - GFTT/ORB\n",
      "Running test 21/32 - KAZE/AKAZE\n",
      "Running test 22/32 - KAZE/BRISK\n",
      "Running test 23/32 - KAZE/KAZE\n",
      "Running test 24/32 - KAZE/ORB\n",
      "Running test 25/32 - MSER/AKAZE\n",
      "Invalid combination - MSER/AKAZE\n",
      "Running test 26/32 - MSER/BRISK\n",
      "Running test 27/32 - MSER/KAZE\n",
      "Invalid combination - MSER/KAZE\n",
      "Running test 28/32 - MSER/ORB\n",
      "Running test 29/32 - ORB/AKAZE\n",
      "Invalid combination - ORB/AKAZE\n",
      "Running test 30/32 - ORB/BRISK\n",
      "Running test 31/32 - ORB/KAZE\n",
      "Invalid combination - ORB/KAZE\n",
      "Running test 32/32 - ORB/ORB\n"
     ]
    }
   ],
   "source": [
    "dirs = ['bark', 'bikes', 'boat', 'graf', 'leuven', 'trees', 'ubc', 'wall']\n",
    "\n",
    "files = get_files_from_array(dirs)\n",
    "images = [cv2.imread(image, 0) for image in files]\n",
    "data = run_test(images, False)"
   ]
  },
  {
   "cell_type": "code",
   "execution_count": 7,
   "metadata": {},
   "outputs": [
    {
     "data": {
      "image/png": "[encoded data removed]",
      "text/plain": [
       "<matplotlib.figure.Figure at 0x7f27940aec88>"
      ]
     },
     "metadata": {},
     "output_type": "display_data"
    }
   ],
   "source": [
    "sns.reset_orig()\n",
    "generate_plots(data)\n",
    "\n",
    "sns.set()\n",
    "display(generate_heatmap(data))"
   ]
  }
 ],
 "metadata": {
  "kernelspec": {
   "display_name": "Python 3",
   "language": "python",
   "name": "python3"
  },
  "language_info": {
   "codemirror_mode": {
    "name": "ipython",
    "version": 3
   },
   "file_extension": ".py",
   "mimetype": "text/x-python",
   "name": "python",
   "nbconvert_exporter": "python",
   "pygments_lexer": "ipython3",
   "version": "3.6.4"
  }
 },
 "nbformat": 4,
 "nbformat_minor": 2
}
