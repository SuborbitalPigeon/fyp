{
 "cells": [
  {
   "cell_type": "code",
   "execution_count": null,
   "metadata": {},
   "outputs": [],
   "source": [
    "import itertools\n",
    "from os.path import join\n",
    "from time import perf_counter\n",
    "\n",
    "import cv2\n",
    "from matplotlib import pyplot as plt\n",
    "import numpy as np\n",
    "import pandas as pd\n",
    "import seaborn as sns\n",
    "\n",
    "from detectordescriptor import DetectorDescriptor\n",
    "from utils import get_files_from_array"
   ]
  },
  {
   "cell_type": "code",
   "execution_count": null,
   "metadata": {
    "scrolled": true
   },
   "outputs": [],
   "source": [
    "def run_test(images, full=False):\n",
    "    \"\"\"Run the speed test\"\"\"\n",
    "    count = 0\n",
    "    detectors_s = []\n",
    "    descriptors_s = []\n",
    "    times = []\n",
    "    nkps = []\n",
    "\n",
    "    if full:\n",
    "        det_s = {**DetectorDescriptor.detectors, **DetectorDescriptor.xdetectors}.keys()\n",
    "        des_s = {**DetectorDescriptor.descriptors, **DetectorDescriptor.xdescriptors}.keys()\n",
    "    else:\n",
    "        det_s = DetectorDescriptor.detectors.keys()\n",
    "        des_s = DetectorDescriptor.descriptors.keys()\n",
    "\n",
    "    for detector, descriptor in itertools.product(det_s, des_s):\n",
    "        count += 1\n",
    "        label = \"{}/{}\".format(detector, descriptor)\n",
    "        print(\"Running test {}/{} - {}/{}\".format(count,\n",
    "                                                  len(det_s) * len(des_s),\n",
    "                                                  detector, descriptor))\n",
    "\n",
    "        algo = DetectorDescriptor(detector, descriptor)\n",
    "        if algo.desc is None:\n",
    "            print(\"Invalid combination - {}/{}\".format(detector, descriptor))\n",
    "            continue\n",
    "\n",
    "        for image in images:\n",
    "            start = perf_counter()\n",
    "            keypoints = algo.detect(image)\n",
    "            keypoints = algo.compute(image, keypoints)[0]\n",
    "            end = perf_counter()\n",
    "\n",
    "            detectors_s.append(detector)\n",
    "            descriptors_s.append(descriptor)\n",
    "            times.append((end - start) * 1000) # Milliseconds\n",
    "            nkps.append(len(keypoints))\n",
    "\n",
    "    return pd.DataFrame({'detector': detectors_s, 'descriptor': descriptors_s,\n",
    "                        'time': times, 'nkp': nkps})\n",
    "\n",
    "def generate_plots(data):\n",
    "    \"\"\" Generate single detector plots, and save to PDF.\"\"\"\n",
    "    for detector in DetectorDescriptor.detectors.keys():\n",
    "        df = data[data.detector == detector]\n",
    "\n",
    "        fig, ax = plt.subplots()\n",
    "\n",
    "        sns.swarmplot(data=df, x='descriptor', y='time', ax=ax)\n",
    "\n",
    "        ax.set_title(\"Detector = {}\".format(detector))\n",
    "        ax.set(xlabel=\"Descriptor\", ylabel=\"Time taken / ms\")\n",
    "        ax.set(yscale='log', ylim=(1, data.time.max()))\n",
    "        ax.grid(which='major', axis='y')\n",
    "        ax.grid(which='minor', axis='y', linestyle=':', linewidth='0.5')\n",
    "\n",
    "        fig.savefig(join(\"results\", \"speed\", detector.lower() + \".pdf\"))\n",
    "\n",
    "def generate_heatmap(data):\n",
    "    \"\"\"Generate heatmap with all combinations of detector and descriptor.\"\"\"\n",
    "    # Heatmap\n",
    "    fig, ax = plt.subplots()\n",
    "\n",
    "    df = data.pivot_table(['nkp', 'time'], ['detector', 'descriptor'], aggfunc=np.sum)\n",
    "    df = ((df.time / df.nkp) * 1000).unstack()\n",
    "    df = df.replace(np.inf, np.nan)\n",
    "\n",
    "    sns.heatmap(df, vmin=0, cmap='viridis_r', annot=True, fmt=\".0f\", ax=ax)\n",
    "    ax.set_title(\"Speed test\")\n",
    "    ax.minorticks_on()\n",
    "\n",
    "    fig.savefig(join(\"results\", \"speed.pdf\"))\n",
    "    return fig"
   ]
  },
  {
   "cell_type": "code",
   "execution_count": null,
   "metadata": {},
   "outputs": [],
   "source": [
    "dirs = ['bark', 'bikes', 'boat', 'graf', 'leuven', 'trees', 'ubc', 'wall']\n",
    "\n",
    "files = get_files_from_array(dirs)\n",
    "images = [cv2.imread(image, 0) for image in files]\n",
    "data = run_test(images, False)"
   ]
  },
  {
   "cell_type": "code",
   "execution_count": null,
   "metadata": {},
   "outputs": [],
   "source": [
    "sns.reset_orig()\n",
    "generate_plots(data)\n",
    "\n",
    "sns.set()\n",
    "display(generate_heatmap(data))"
   ]
  }
 ],
 "metadata": {
  "kernelspec": {
   "display_name": "Python 3",
   "language": "python",
   "name": "python3"
  },
  "language_info": {
   "codemirror_mode": {
    "name": "ipython",
    "version": 3
   },
   "file_extension": ".py",
   "mimetype": "text/x-python",
   "name": "python",
   "nbconvert_exporter": "python",
   "pygments_lexer": "ipython3",
   "version": "3.6.4"
  }
 },
 "nbformat": 4,
 "nbformat_minor": 2
}
